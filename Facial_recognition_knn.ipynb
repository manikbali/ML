{
 "cells": [
  {
   "cell_type": "code",
   "execution_count": 1,
   "metadata": {},
   "outputs": [],
   "source": [
    "# -*- coding: utf-8 -*-\n",
    "\"\"\"\n",
    "Created on Mon Feb  3 11:41:25 2020\n",
    "\n",
    "@author: Manik Bali\n",
    "\"\"\"\n",
    "# -*- coding: utf-8 -*-\n",
    "\"\"\"\n",
    "Created on Wed Jan 22 21:00:00 2020\n",
    "\n",
    "@author: Manik Bali\n",
    "\"\"\"\n",
    "\n",
    "import scipy.io as sio\n",
    "from   scipy import stats \n",
    "from scipy.spatial import distance\n",
    "import numpy as np\n",
    "import matplotlib.pyplot as plt\n",
    "from sklearn.preprocessing import StandardScaler\n",
    "from sklearn.decomposition import PCA\n",
    "from numpy.linalg import eig\n",
    "import random\n",
    "import os\n"
   ]
  },
  {
   "cell_type": "code",
   "execution_count": 4,
   "metadata": {},
   "outputs": [],
   "source": [
    "#Read Data\n",
    "data_face = sio.loadmat(r\"C:\\Users\\Navya\\Downloads\\data.mat\")['face']"
   ]
  },
  {
   "cell_type": "code",
   "execution_count": 6,
   "metadata": {},
   "outputs": [],
   "source": [
    "#Split into neutral and expression arrays n for neutral and e for expression\n",
    "n=data_face[:,:,0::3]\n",
    "e=data_face[:,:,1::3]\n",
    "\n",
    "image_columns=24\n",
    "image_rows=21\n",
    "cl=image_columns*image_rows\n",
    "\n",
    "n_train_images=100\n",
    "\n",
    "\n",
    "cl=image_columns*image_rows\n"
   ]
  },
  {
   "cell_type": "code",
   "execution_count": 7,
   "metadata": {},
   "outputs": [],
   "source": [
    "#Select first 100 images for trainning and pick any image above 100 as test\n",
    "neutral_train=n[:, :, 0:n_train_images]\n",
    "expression_train=e[:, :, 0:n_train_images]\n"
   ]
  },
  {
   "cell_type": "code",
   "execution_count": 8,
   "metadata": {},
   "outputs": [],
   "source": [
    "#Input Test image \n",
    "test_image = e[:, :, 150]\n",
    "\n",
    "distance_with_n=np.zeros((100),dtype=\"f\")\n",
    "distance_with_e=np.zeros((100),dtype=\"f\")\n"
   ]
  },
  {
   "cell_type": "code",
   "execution_count": 9,
   "metadata": {},
   "outputs": [
    {
     "name": "stdout",
     "output_type": "stream",
     "text": [
      "9.304298\n",
      "9.167642\n",
      "Image is Expression\n"
     ]
    }
   ],
   "source": [
    "#Compute distance of test image from neutral and expression\n",
    "\n",
    "for i in range(100):\n",
    "    distance_with_n[i]=distance.euclidean(test_image.flatten(), neutral_train[:,:,i].flatten())\n",
    "    distance_with_e[i]=distance.euclidean(test_image.flatten(), expression_train[:,:,i].flatten())\n",
    "\n",
    "print(np.min(distance_with_n))\n",
    "print(np.min(distance_with_e))\n",
    "#Take a decision with K=1\n",
    "if (np.min(distance_with_n) < np.min(distance_with_e)) :\n",
    "    print(\"Image is Neutral\") \n",
    "    \n",
    "if (np.min(distance_with_n) > np.min(distance_with_e)) :\n",
    "    print(\"Image is Expression\") \n"
   ]
  },
  {
   "cell_type": "code",
   "execution_count": null,
   "metadata": {},
   "outputs": [],
   "source": []
  }
 ],
 "metadata": {
  "kernelspec": {
   "display_name": "Python 3",
   "language": "python",
   "name": "python3"
  }
 },
 "nbformat": 4,
 "nbformat_minor": 4
}
