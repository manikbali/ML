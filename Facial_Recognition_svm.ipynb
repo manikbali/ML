{
 "cells": [
  {
   "cell_type": "code",
   "execution_count": 1,
   "metadata": {},
   "outputs": [
    {
     
     ]
    }
   ],
   "source": [
    "# -*- coding: utf-8 -*-\n",
    "\"\"\"\n",
    "Created on Wed Feb  5 20:23:19 2020\n",
    "\n",
    "@author: Manik Bali\n",
    "\"\"\"\n",
    "\n",
    "#This code takes the MNIST number data as input and trains on it. It classifies test data on this using the SVM algorithm",
    "from mnist import MNIST\n",
    "from skimage.color import rgb2grey\n",
    "from sklearn import svm\n",
    "from sklearn import metrics\n",
    "from sklearn.neighbors import KNeighborsClassifier\n",
    "import matplotlib.pyplot as plt\n",
    "from sklearn.decomposition import PCA\n",
    "import numpy as np\n",
    "import random\n",
    "\n",
    "mndata = MNIST(r\"C:/Users/Manik Bali/Documents/KD/SVM\")\n",
    "mndata.gz=True\n",
    "train_images, train_labels = mndata.load_training()\n",
    "test_images, test_labels = mndata.load_testing()\n",
    "np.array(range(1000,60000,1000) ).shape[0]\n",
    "bias_array=np.array(range(1000,60000,1000) ).shape[0]\n",
    "n=0\n",
    "\n",
    "#index = random.randrange(0, len(train_images))]=\n",
    "#plt.imshow(np.array(images[index]).reshape(28,28))\n",
    "\n",
    "#classes =train_labels\n",
    "#clf=svm.SVC()\n",
    "#clf.fit(train_images)\n",
    " \n",
    " \n"
   ]
  },
  {
   "cell_type": "code",
   "execution_count": null,
   "metadata": {},
   "outputs": [],
   "source": [
    "for nimages in range(1000,60000,1000):\n",
    "    train_images=np.array(train_images[0:nimages]) \n",
    "    train_labels=np.array(train_labels[0:nimages]) \n",
    "\n",
    "#train_images=np.array(train_images) \n",
    "#train_labels=np.array(train_labels) \n",
    "\n",
    "\n",
    "    test_images=np.array(test_images) \n",
    "    test_labels=np.array(test_labels) \n",
    "\n",
    "    pca=PCA(n_components=120)\n",
    "    pca_vectors = pca.fit_transform(train_images)\n",
    "\n",
    "    cumulative_variance=np.cumsum(pca.explained_variance_ratio_)\n",
    "#\n",
    "    \n",
    "    proj_data= np.matmul(train_images, pca.components_.T)\n",
    "\n",
    "    test_proj_data = np.matmul(test_images, pca.components_.T)\n",
    "#ssvm = svm.SVC(kernel='linear', probability=True, random_state=42)\n",
    "#\n",
    "    ssvm = svm.SVC(kernel='linear')\n",
    "    a=ssvm.fit(proj_data, train_labels)\n",
    "    y_pred = ssvm.predict(test_proj_data)\n",
    "#The output array is test_labels\n",
    "    bias=test_labels - y_pred\n",
    "#    plt.plot(bias[np.where(bias ==0)].shape[0]))\n",
    "    \n",
    "    bias_array[n] =  np.array(np.where(bias ==0)).shape[1]\n",
    "    n=n+1\n"
   ]
  },
  {
   "cell_type": "code",
   "execution_count": null,
   "metadata": {},
   "outputs": [],
   "source": []
  }
 ],
 "metadata": {
  "kernelspec": {
   "display_name": "Python 3",
   "language": "python",
   "name": "python3"
  },
  "language_info": {
   "codemirror_mode": {
    "name": "ipython",
    "version": 3
   },
   "file_extension": ".py",
   "mimetype": "text/x-python",
   "name": "python",
   "nbconvert_exporter": "python",
   "pygments_lexer": "ipython3",
   "version": "3.7.6"
  }
 },
 "nbformat": 4,
 "nbformat_minor": 4
}
