{
 "cells": [
  {
   "cell_type": "code",
   "execution_count": 1,
   "metadata": {},
   "outputs": [
    {
     "ename": "ImportError",
     "evalue": "cannot import name 'MNIST' from 'mnist' (C:\\Users\\Navya\\anaconda3\\lib\\site-packages\\mnist\\__init__.py)",
     "output_type": "error",
     "traceback": [
      "\u001b[1;31m---------------------------------------------------------------------------\u001b[0m",
      "\u001b[1;31mImportError\u001b[0m                               Traceback (most recent call last)",
      "\u001b[1;32m<ipython-input-1-ac010eb6b6f3>\u001b[0m in \u001b[0;36m<module>\u001b[1;34m\u001b[0m\n\u001b[0;32m      6\u001b[0m \"\"\"\n\u001b[0;32m      7\u001b[0m \u001b[1;33m\u001b[0m\u001b[0m\n\u001b[1;32m----> 8\u001b[1;33m \u001b[1;32mfrom\u001b[0m \u001b[0mmnist\u001b[0m \u001b[1;32mimport\u001b[0m \u001b[0mMNIST\u001b[0m\u001b[1;33m\u001b[0m\u001b[1;33m\u001b[0m\u001b[0m\n\u001b[0m\u001b[0;32m      9\u001b[0m \u001b[1;32mfrom\u001b[0m \u001b[0mskimage\u001b[0m\u001b[1;33m.\u001b[0m\u001b[0mcolor\u001b[0m \u001b[1;32mimport\u001b[0m \u001b[0mrgb2grey\u001b[0m\u001b[1;33m\u001b[0m\u001b[1;33m\u001b[0m\u001b[0m\n\u001b[0;32m     10\u001b[0m \u001b[1;32mfrom\u001b[0m \u001b[0msklearn\u001b[0m \u001b[1;32mimport\u001b[0m \u001b[0msvm\u001b[0m\u001b[1;33m\u001b[0m\u001b[1;33m\u001b[0m\u001b[0m\n",
      "\u001b[1;31mImportError\u001b[0m: cannot import name 'MNIST' from 'mnist' (C:\\Users\\Navya\\anaconda3\\lib\\site-packages\\mnist\\__init__.py)"
     ]
    }
   ],
   "source": [
    "# -*- coding: utf-8 -*-\n",
    "\"\"\"\n",
    "Created on Wed Feb  5 20:23:19 2020\n",
    "\n",
    "@author: Manik Bali\n",
    "\"\"\"\n",
    "\n",
    "from mnist import MNIST\n",
    "from skimage.color import rgb2grey\n",
    "from sklearn import svm\n",
    "from sklearn import metrics\n",
    "from sklearn.neighbors import KNeighborsClassifier\n",
    "import matplotlib.pyplot as plt\n",
    "from sklearn.decomposition import PCA\n",
    "import numpy as np\n",
    "import random\n",
    "\n",
    "mndata = MNIST(r\"C:/Users/Manik Bali/Documents/KD/SVM\")\n",
    "mndata.gz=True\n",
    "train_images, train_labels = mndata.load_training()\n",
    "test_images, test_labels = mndata.load_testing()\n",
    "np.array(range(1000,60000,1000) ).shape[0]\n",
    "bias_array=np.array(range(1000,60000,1000) ).shape[0]\n",
    "n=0\n",
    "\n",
    "#index = random.randrange(0, len(train_images))]=\n",
    "#plt.imshow(np.array(images[index]).reshape(28,28))\n",
    "\n",
    "#classes =train_labels\n",
    "#clf=svm.SVC()\n",
    "#clf.fit(train_images)\n",
    " \n",
    " \n"
   ]
  },
  {
   "cell_type": "code",
   "execution_count": null,
   "metadata": {},
   "outputs": [],
   "source": [
    "for nimages in range(1000,60000,1000):\n",
    "    train_images=np.array(train_images[0:nimages]) \n",
    "    train_labels=np.array(train_labels[0:nimages]) \n",
    "\n",
    "#train_images=np.array(train_images) \n",
    "#train_labels=np.array(train_labels) \n",
    "\n",
    "\n",
    "    test_images=np.array(test_images) \n",
    "    test_labels=np.array(test_labels) \n",
    "\n",
    "    pca=PCA(n_components=120)\n",
    "    pca_vectors = pca.fit_transform(train_images)\n",
    "\n",
    "    cumulative_variance=np.cumsum(pca.explained_variance_ratio_)\n",
    "#\n",
    "    \n",
    "    proj_data= np.matmul(train_images, pca.components_.T)\n",
    "\n",
    "    test_proj_data = np.matmul(test_images, pca.components_.T)\n",
    "#ssvm = svm.SVC(kernel='linear', probability=True, random_state=42)\n",
    "#\n",
    "    ssvm = svm.SVC(kernel='linear')\n",
    "    a=ssvm.fit(proj_data, train_labels)\n",
    "    y_pred = ssvm.predict(test_proj_data)\n",
    "#The output array is test_labels\n",
    "    bias=test_labels - y_pred\n",
    "#    plt.plot(bias[np.where(bias ==0)].shape[0]))\n",
    "    \n",
    "    bias_array[n] =  np.array(np.where(bias ==0)).shape[1]\n",
    "    n=n+1\n"
   ]
  },
  {
   "cell_type": "code",
   "execution_count": null,
   "metadata": {},
   "outputs": [],
   "source": []
  }
 ],
 "metadata": {
  "kernelspec": {
   "display_name": "Python 3",
   "language": "python",
   "name": "python3"
  },
  "language_info": {
   "codemirror_mode": {
    "name": "ipython",
    "version": 3
   },
   "file_extension": ".py",
   "mimetype": "text/x-python",
   "name": "python",
   "nbconvert_exporter": "python",
   "pygments_lexer": "ipython3",
   "version": "3.7.6"
  }
 },
 "nbformat": 4,
 "nbformat_minor": 4
}
