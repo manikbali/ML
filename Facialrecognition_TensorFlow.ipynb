{
 "cells": [
  {
   "cell_type": "code",
   "execution_count": null,
   "metadata": {},
   "outputs": [],
   "source": [
    "# -*- coding: utf-8 -*-\n",
    "\"\"\"\n",
    "Created on Sat Feb 15 12:49:28 2020\n",
    "@author: Manik Bali\n",
    "\"\"\"\n",
    "# Code prints out the number of images correctly classified if all the test images \n",
    "#are given  as input.\n",
    "\n",
    "from mnist import MNIST\n",
    "import tensorflow as tf\n",
    "from tensorflow.keras.layers import Dense, Conv2D, Dropout, Flatten, MaxPooling2D\n",
    "import matplotlib.pyplot as plt\n",
    "import numpy as np\n",
    "\n",
    "tf.compat.v1.disable_eager_execution()\n",
    "#plt.clf()\n",
    "#Read in MNIST data\n"
   ]
  },
  {
   "cell_type": "code",
   "execution_count": null,
   "metadata": {},
   "outputs": [],
   "source": [
    "mndata = MNIST(r\"C:/Users/Manik Bali/Documents/KD/SVM\")\n",
    "mndata.gz=True\n",
    "train_images, train_labels = mndata.load_training()\n",
    "test_images, test_labels = mndata.load_testing()"
   ]
  },
  {
   "cell_type": "code",
   "execution_count": null,
   "metadata": {},
   "outputs": [],
   "source": [
    "test_images=np.array(test_images).astype('float32')/255.0 \n",
    "test_labels=np.array(test_labels) \n",
    "# Set Number of training images\n",
    "Number_of_train_images=10000 \n",
    "#Read and Load in MNIST data into train_images and train_labels\n",
    "train_images=np.array(train_images[0:Number_of_train_images]).astype('float32')/255\n",
    "train_labels=np.array(train_labels[0:Number_of_train_images]) "
   ]
  },
  {
   "cell_type": "code",
   "execution_count": null,
   "metadata": {},
   "outputs": [],
   "source": [
    "#Resize the train images to arrays that can be input into the model function\n",
    "train_images = train_images.reshape(train_images.shape[0], 28, 28, 1)\n",
    "test_images =  test_images.reshape(test_images.shape[0], 28, 28, 1)\n",
    "\n",
    "input_shape = (28, 28, 1)"
   ]
  },
  {
   "cell_type": "code",
   "execution_count": null,
   "metadata": {},
   "outputs": [],
   "source": [
    "# Importing the required Keras modules containing model and layers\n",
    "\n",
    "# Create a Sequential Model and add the layers\n",
    "model = tf.keras.Sequential()\n",
    "model.add(Conv2D(28, kernel_size=(3,3), input_shape=input_shape))\n",
    "model.add(MaxPooling2D(pool_size=(2, 2)))\n",
    "model.add(Flatten()) # Flattening the 2D arrays for fully connected layers\n",
    "model.add(Dense(128, activation=tf.nn.relu))\n",
    "model.add(Dropout(0.2))\n",
    "model.add(Dense(10,activation=tf.nn.softmax))\n"
   ]
  },
  {
   "cell_type": "code",
   "execution_count": null,
   "metadata": {},
   "outputs": [],
   "source": [
    "model.compile(optimizer='adam', \n",
    "              loss='sparse_categorical_crossentropy', \n",
    "              metrics=['accuracy'])\n",
    "model.fit(x=train_images,y=train_labels, epochs=10)\n",
    "\n",
    "model.evaluate(test_images, test_labels)\n",
    "\n",
    "image_index = 4444\n",
    "plt.imshow(test_images[image_index].reshape(28, 28),cmap='Greys')\n",
    "pred = model.predict(test_images[image_index].reshape(1, 28, 28, 1))\n",
    "print(pred.argmax())"
   ]
  }
 ],
 "metadata": {
  "kernelspec": {
   "display_name": "Python 3",
   "language": "python",
   "name": "python3"
  }
 },
 "nbformat": 4,
 "nbformat_minor": 4
}
